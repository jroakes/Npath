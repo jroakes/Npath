{
 "cells": [
  {
   "cell_type": "markdown",
   "metadata": {},
   "source": [
    "# Npath"
   ]
  },
  {
   "cell_type": "markdown",
   "metadata": {},
   "source": [
    "## Sequence and convertor review"
   ]
  },
  {
   "cell_type": "code",
   "execution_count": null,
   "metadata": {},
   "outputs": [],
   "source": [
    "import pandas as pd\n",
    "from data import get_data\n",
    "from feature import plot_important_features_prefixspan\n",
    "from conversion import convertor_review\n",
    "from divergence import analyze_divergence\n",
    "\n",
    "###################################################################\n",
    "# Parameters\n",
    "###################################################################\n",
    "\n",
    "# BigQuery Table Name (GA4) - Replace with your own - <project_id>.<dataset>.events_*\n",
    "table_name = \"<project_id>.<dataset>.events_*\"\n",
    "# Number of days to look back\n",
    "historical_days = 30\n",
    "# Goal Event Name\n",
    "goal_event = \"marketo_form_submit\"\n",
    "# Conversion Page Title (Before any | or - characters)\n",
    "conversion_page_title = \"Thank You\"\n",
    "# Brand Name (regex pattern)\n",
    "brand = \"(Brand)\"\n",
    "# Whether to balance each class\n",
    "balanced = False\n",
    "# Minimum Frequency of Sequence\n",
    "min_freq = 5\n",
    "# Minimum length of sequence\n",
    "min_seq_len = 4\n",
    "\n",
    "###################################################################\n",
    "# Notes\n",
    "###################################################################\n",
    "# Place service_account.json in the same directory as this file\n",
    "# The service account must have access to the BigQuery table\n",
    "\n",
    "###################################################################\n",
    "# Main\n",
    "###################################################################\n",
    "# Get Data\n",
    "data = get_data(table_name, historical_days, goal_event, conversion_page_title, brand)\n",
    "\n",
    "if not isinstance(data, pd.DataFrame) or len(data) == 0:\n",
    "    print('No data found. Please check your parameters.')\n",
    "    exit()\n",
    "\n",
    "# Maybe Balance Data\n",
    "if balanced:\n",
    "    convertors = data[data.converted == 1].copy()\n",
    "    non_convertors = data[data.converted == 0].sample(len(convertors)).copy()\n",
    "\n",
    "    data = pd.concat([convertors, non_convertors], axis=0)\n",
    "    data = data.reset_index(drop=True)\n",
    "\n",
    "\n",
    "# Prefix Span: Graph of Sequence Importance\n",
    "print('Sequence Importance in Conversions')\n",
    "plot_important_features_prefixspan(data.copy(), top_n=30, min_freq=min_freq, min_seq_len=min_seq_len)\n",
    "\n",
    "# Convertor Review: Sequence Patterns of Similarity and Anomalies in Non-Convertors that are clustered with Convertors\n",
    "print('Sequence patterns for non-converting users that are similar to or unique from converting users')\n",
    "convertor_review(data.copy(), top_n=10, reducer=\"pca\")\n",
    "\n",
    "# Divergence: Sequence Patterns where Non-Convertors Diverge from Convertors\n",
    "print('Top Sequences where non-converting users followed a path that diverged from converting users')\n",
    "results_df = analyze_divergence(data.copy(), top_n=15, min_freq=min_freq, min_seq_len=min_seq_len)\n",
    "\n",
    "for i, row in results_df.iterrows():\n",
    "\n",
    "    print(f\"Conversion Sequence: {row['conversion_seq']}\")\n",
    "    print(f\"Non-Conversion Sequence: {row['non_conversion_seq']}\")\n",
    "    print(f\"Diversion Node: {row['diversion']}\")\n",
    "    print(f\"Diversion Score: {round(row['divergence_score'], 2)} Frequency: {row['non_conv_freq']}\")\n",
    "    print()\n"
   ]
  },
  {
   "cell_type": "markdown",
   "metadata": {},
   "source": [
    "## Review input data"
   ]
  },
  {
   "cell_type": "code",
   "execution_count": null,
   "metadata": {},
   "outputs": [],
   "source": [
    "data.head()\n"
   ]
  },
  {
   "cell_type": "markdown",
   "metadata": {},
   "source": [
    "## Cluster user paths into categories\n"
   ]
  },
  {
   "cell_type": "code",
   "execution_count": null,
   "metadata": {},
   "outputs": [],
   "source": [
    "from cluster import analyze_clusters\n",
    "\n",
    "\n",
    "###################################################################\n",
    "# Parameters\n",
    "###################################################################\n",
    "\n",
    "# OpenAI API Key\n",
    "openai_api_key = \"sk-XXXXXXXXXXXXXXXXXXXXXXXXXXXXXXXXXXXXXXXXXXXXX\"\n",
    "# OpenAI Model\n",
    "model = \"gpt-3.5-turbo\"\n",
    "# Minimum number of sequences in a topic\n",
    "min_topic_size = 50\n",
    "\n",
    "###################################################################\n",
    "# Main\n",
    "###################################################################\n",
    "\n",
    "# Analyze Clusters\n",
    "topic_model = analyze_clusters(data.copy(), model = model, min_topic_size = min_topic_size, api_key = openai_api_key)\n"
   ]
  }
 ],
 "metadata": {
  "kernelspec": {
   "display_name": "searchconsolebot",
   "language": "python",
   "name": "python3"
  },
  "language_info": {
   "codemirror_mode": {
    "name": "ipython",
    "version": 3
   },
   "file_extension": ".py",
   "mimetype": "text/x-python",
   "name": "python",
   "nbconvert_exporter": "python",
   "pygments_lexer": "ipython3",
   "version": "3.9.16"
  }
 },
 "nbformat": 4,
 "nbformat_minor": 2
}
